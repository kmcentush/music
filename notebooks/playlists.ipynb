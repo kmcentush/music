{
 "cells": [
  {
   "cell_type": "code",
   "execution_count": null,
   "id": "0",
   "metadata": {},
   "outputs": [],
   "source": [
    "import polars as pl\n",
    "from music.api import get_playlist_tracks, get_user_client, get_user_playlists\n",
    "\n",
    "# Specify playlists to keep; i.e. consider for labels\n",
    "KEEP_PLAYLISTS = {\n",
    "    \"Alternative\",\n",
    "    \"Ambient\",\n",
    "    \"Angstry Rock\",\n",
    "    \"Bluegrass\",\n",
    "    \"Chill\",\n",
    "    \"Chill EDM\",\n",
    "    \"Country\",\n",
    "    \"EDM\",\n",
    "    \"Feels\",\n",
    "    # 'Good Vibes',\n",
    "    # 'Groovy',\n",
    "    \"Hip Hop\",\n",
    "    \"Indie\",\n",
    "    \"Classic Rock\",\n",
    "    \"Pop\",\n",
    "    \"Punk\",\n",
    "    # 'Soundtracks',\n",
    "    # 'Throwbacks',\n",
    "}"
   ]
  },
  {
   "cell_type": "markdown",
   "id": "1",
   "metadata": {},
   "source": [
    "# Get Data"
   ]
  },
  {
   "cell_type": "code",
   "execution_count": null,
   "id": "2",
   "metadata": {},
   "outputs": [],
   "source": [
    "# Get client\n",
    "client = get_user_client()"
   ]
  },
  {
   "cell_type": "code",
   "execution_count": null,
   "id": "3",
   "metadata": {},
   "outputs": [],
   "source": [
    "# Get playlists\n",
    "playlist_objs = get_user_playlists(client)\n",
    "playlists = pl.DataFrame(playlist_objs)[[\"id\", \"name\"]]"
   ]
  },
  {
   "cell_type": "code",
   "execution_count": null,
   "id": "4",
   "metadata": {},
   "outputs": [],
   "source": [
    "# Print playlists\n",
    "print(playlists[\"name\"].to_list())"
   ]
  },
  {
   "cell_type": "code",
   "execution_count": null,
   "id": "5",
   "metadata": {},
   "outputs": [],
   "source": [
    "def get_tracks(playlist: pl.DataFrame) -> pl.DataFrame:\n",
    "    # Get info\n",
    "    id, name = playlist.row(0)\n",
    "    tracks_dicts = get_playlist_tracks(client, id)\n",
    "\n",
    "    # Finalize output\n",
    "    out = pl.DataFrame({\"track_id\": t[\"track\"][\"id\"], \"track_name\": t[\"track\"][\"name\"]} for t in tracks_dicts)\n",
    "    out = out.with_columns(playlist_id=pl.lit(id), playlist_name=pl.lit(name))\n",
    "\n",
    "    return out\n",
    "\n",
    "\n",
    "# Get tracks from playlists\n",
    "to_get = playlists.filter(pl.col(\"name\").is_in(KEEP_PLAYLISTS))\n",
    "df = to_get.group_by(\"id\").map_groups(get_tracks)"
   ]
  },
  {
   "cell_type": "code",
   "execution_count": null,
   "id": "6",
   "metadata": {},
   "outputs": [],
   "source": [
    "# Save data\n",
    "df.write_parquet(\"playlists.parquet\")"
   ]
  },
  {
   "cell_type": "code",
   "execution_count": null,
   "id": "7",
   "metadata": {},
   "outputs": [],
   "source": []
  }
 ],
 "metadata": {
  "kernelspec": {
   "display_name": "Python 3 (ipykernel)",
   "language": "python",
   "name": "python3"
  },
  "language_info": {
   "codemirror_mode": {
    "name": "ipython",
    "version": 3
   },
   "file_extension": ".py",
   "mimetype": "text/x-python",
   "name": "python",
   "nbconvert_exporter": "python",
   "pygments_lexer": "ipython3",
   "version": "3.10.11"
  }
 },
 "nbformat": 4,
 "nbformat_minor": 5
}
