{
 "cells": [
  {
   "cell_type": "code",
   "execution_count": null,
   "metadata": {},
   "outputs": [],
   "source": [
    "import functools\n",
    "import operator\n",
    "\n",
    "import plotly.express as px\n",
    "import polars as pl\n",
    "from IPython.display import display\n",
    "from umap import UMAP\n",
    "\n",
    "from music.models import Artist, Features, Track\n",
    "\n",
    "# Specify columns to exclude\n",
    "EXCLUDE_COLS = {\"pkey\", \"create_ts\", \"update_ts\"}"
   ]
  },
  {
   "cell_type": "markdown",
   "metadata": {},
   "source": [
    "# Get Data"
   ]
  },
  {
   "cell_type": "code",
   "execution_count": null,
   "metadata": {},
   "outputs": [],
   "source": [
    "# Get tracks\n",
    "tracks_objs = Track.read_many()\n",
    "tracks = pl.DataFrame([t.model_dump(exclude=EXCLUDE_COLS) for t in tracks_objs])\n",
    "\n",
    "print(tracks.shape)\n",
    "display(tracks.head())"
   ]
  },
  {
   "cell_type": "code",
   "execution_count": null,
   "metadata": {},
   "outputs": [],
   "source": [
    "# Get artists\n",
    "artists_ids = set(functools.reduce(operator.iadd, tracks[\"artist_ids\"].to_list(), []))\n",
    "artists_objs = Artist.read_many(ids=artists_ids)\n",
    "artists = pl.DataFrame([a.model_dump(exclude=EXCLUDE_COLS) for a in artists_objs])\n",
    "\n",
    "print(artists.shape)\n",
    "display(artists.head())"
   ]
  },
  {
   "cell_type": "code",
   "execution_count": null,
   "metadata": {},
   "outputs": [],
   "source": [
    "# Get features\n",
    "features_objs = Features.read_many(ids=tracks[\"id\"])\n",
    "features = pl.DataFrame([f.model_dump(exclude=EXCLUDE_COLS) for f in features_objs])\n",
    "FEATURE_COLS = sorted(set(features.columns) - {\"id\"})\n",
    "\n",
    "print(features.shape)\n",
    "display(features.head())"
   ]
  },
  {
   "cell_type": "code",
   "execution_count": null,
   "metadata": {},
   "outputs": [],
   "source": [
    "# Get metadata lookup\n",
    "to_join = tracks.select([\"id\", \"name\", \"artist_ids\"]).explode(\"artist_ids\").rename({\"name\": \"track\"})\n",
    "meta = to_join.join(artists.select([\"id\", \"name\"]), left_on=\"artist_ids\", right_on=\"id\", how=\"left\")\n",
    "meta = meta.select([\"id\", \"track\", \"name\"]).rename({\"id\": \"track_id\", \"name\": \"artists\"})\n",
    "meta = meta.group_by([\"track_id\", \"track\"]).agg(pl.col(\"artists\").unique(maintain_order=True))\n",
    "\n",
    "print(meta.shape)\n",
    "display(meta.head())"
   ]
  },
  {
   "cell_type": "code",
   "execution_count": null,
   "metadata": {},
   "outputs": [],
   "source": [
    "# Combine metadata and original features\n",
    "df = features.join(meta, left_on=\"id\", right_on=\"track_id\", how=\"left\")\n",
    "\n",
    "print(df.shape)\n",
    "display(df.head())"
   ]
  },
  {
   "cell_type": "code",
   "execution_count": null,
   "metadata": {},
   "outputs": [],
   "source": [
    "# Save data\n",
    "df.write_parquet(\"features.parquet\")"
   ]
  },
  {
   "cell_type": "markdown",
   "metadata": {},
   "source": [
    "# Visualization"
   ]
  },
  {
   "cell_type": "code",
   "execution_count": null,
   "metadata": {},
   "outputs": [],
   "source": [
    "# Apply dimensionality reduction (for visualization)\n",
    "reducer = UMAP(n_components=3)\n",
    "reduced_raw = reducer.fit_transform(features.select(FEATURE_COLS))\n",
    "reduced = pl.DataFrame(reduced_raw, schema=[f\"reduced{i}\" for i in range(reduced_raw.shape[1])])\n",
    "reduced = reduced.with_columns(features[\"id\"])\n",
    "\n",
    "# Combine metadata\n",
    "reduced = reduced.join(meta, left_on=\"id\", right_on=\"track_id\", how=\"left\")\n",
    "\n",
    "print(reduced.shape)\n",
    "display(reduced.head())"
   ]
  },
  {
   "cell_type": "code",
   "execution_count": null,
   "metadata": {},
   "outputs": [],
   "source": [
    "# Plot\n",
    "reduced = reduced.with_columns(artists_str=pl.col(\"artists\").list.join(\", \"))\n",
    "fig = px.scatter(reduced, x=\"reduced0\", y=\"reduced1\", color=\"reduced2\", hover_data=[\"track\", \"artists_str\"])\n",
    "fig.update_layout(width=720, height=480)\n",
    "fig.show()"
   ]
  },
  {
   "cell_type": "code",
   "execution_count": null,
   "metadata": {},
   "outputs": [],
   "source": []
  }
 ],
 "metadata": {
  "kernelspec": {
   "display_name": "Python 3 (ipykernel)",
   "language": "python",
   "name": "python3"
  },
  "language_info": {
   "codemirror_mode": {
    "name": "ipython",
    "version": 3
   },
   "file_extension": ".py",
   "mimetype": "text/x-python",
   "name": "python",
   "nbconvert_exporter": "python",
   "pygments_lexer": "ipython3",
   "version": "3.10.11"
  }
 },
 "nbformat": 4,
 "nbformat_minor": 4
}
