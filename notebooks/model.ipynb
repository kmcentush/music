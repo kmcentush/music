{
 "cells": [
  {
   "cell_type": "code",
   "execution_count": null,
   "id": "0",
   "metadata": {},
   "outputs": [],
   "source": [
    "import polars as pl\n",
    "import torch\n",
    "from torch import nn, optim\n",
    "from torch.utils.data import DataLoader\n",
    "\n",
    "# Specify features and target\n",
    "FEATURES = [\n",
    "    \"acousticness\",\n",
    "    \"energy\",\n",
    "    \"key\",\n",
    "    \"loudness\",\n",
    "    \"speechiness\",\n",
    "    \"time_signature\",\n",
    "    \"danceability\",\n",
    "    \"instrumentalness\",\n",
    "    \"liveness\",\n",
    "    \"mode\",\n",
    "    \"tempo\",\n",
    "    \"valence\",\n",
    "]\n",
    "TARGET = \"playlist_name\""
   ]
  },
  {
   "cell_type": "code",
   "execution_count": null,
   "id": "1",
   "metadata": {},
   "outputs": [],
   "source": [
    "# Load data\n",
    "features = pl.read_parquet(\"features.parquet\")\n",
    "playlists = pl.read_parquet(\"playlists.parquet\")\n",
    "\n",
    "# Join\n",
    "df = playlists.join(features, left_on=[\"track_id\", \"track_name\"], right_on=[\"id\", \"track\"], how=\"left\")\n",
    "\n",
    "# Label target\n",
    "df = df.with_columns(target=pl.col(TARGET).rank(\"dense\") - 1)"
   ]
  },
  {
   "cell_type": "code",
   "execution_count": null,
   "id": "2",
   "metadata": {},
   "outputs": [],
   "source": [
    "# Get info\n",
    "num_features = len(FEATURES)\n",
    "num_classes = df[\"target\"].unique().shape[0]\n",
    "\n",
    "# Get device\n",
    "# TODO: enable CUDA\n",
    "device = \"cuda\" if torch.cuda.is_available() else \"mps\" if torch.backends.mps.is_available() else \"cpu\"\n",
    "\n",
    "# Define model\n",
    "model = nn.Sequential(\n",
    "    nn.Linear(num_features, 16),\n",
    "    nn.ReLU(),\n",
    "    nn.Linear(16, 32),\n",
    "    nn.ReLU(),\n",
    "    # nn.Linear(32, 32),\n",
    "    # nn.ReLU(),\n",
    "    nn.Linear(32, 16),\n",
    "    nn.ReLU(),\n",
    "    nn.Linear(16, num_classes),\n",
    ").to(device)\n",
    "\n",
    "# Define criterion and optimizer\n",
    "criterion = nn.CrossEntropyLoss()\n",
    "optimizer = optim.SGD(model.parameters(), lr=0.001, momentum=0.9)\n",
    "\n",
    "model"
   ]
  },
  {
   "cell_type": "code",
   "execution_count": null,
   "id": "3",
   "metadata": {},
   "outputs": [],
   "source": [
    "# Get dataset\n",
    "train_dataset = df[[*FEATURES, \"target\"]].to_torch(\"dataset\", label=\"target\", dtype=pl.Float32)"
   ]
  },
  {
   "cell_type": "code",
   "execution_count": null,
   "id": "4",
   "metadata": {},
   "outputs": [],
   "source": [
    "# Initialize dataloader\n",
    "train_dataloader = DataLoader(train_dataset, batch_size=16, shuffle=True)\n",
    "\n",
    "# Train model\n",
    "num_epochs = 128\n",
    "for epoch in range(num_epochs):\n",
    "    for features, targets in train_dataloader:\n",
    "        # Zero the parameter gradients\n",
    "        optimizer.zero_grad()\n",
    "\n",
    "        # Forward + backward + optimize\n",
    "        outputs = model(features)\n",
    "        loss = criterion(outputs, targets.long())\n",
    "        loss.backward()\n",
    "        optimizer.step()\n",
    "\n",
    "    # Print statistics\n",
    "    if epoch % 16 == 0:\n",
    "        print(f\"{epoch} loss: {loss.item():.3f}\")"
   ]
  },
  {
   "cell_type": "code",
   "execution_count": null,
   "id": "5",
   "metadata": {},
   "outputs": [],
   "source": []
  }
 ],
 "metadata": {
  "kernelspec": {
   "display_name": "Python 3 (ipykernel)",
   "language": "python",
   "name": "python3"
  },
  "language_info": {
   "codemirror_mode": {
    "name": "ipython",
    "version": 3
   },
   "file_extension": ".py",
   "mimetype": "text/x-python",
   "name": "python",
   "nbconvert_exporter": "python",
   "pygments_lexer": "ipython3",
   "version": "3.10.11"
  }
 },
 "nbformat": 4,
 "nbformat_minor": 5
}
